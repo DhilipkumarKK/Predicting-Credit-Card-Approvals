{
 "cells": [
  {
   "cell_type": "markdown",
   "id": "3fcd9fea",
   "metadata": {},
   "source": [
    "# Import Lib"
   ]
  },
  {
   "cell_type": "code",
   "execution_count": 7,
   "id": "e161c2a7",
   "metadata": {},
   "outputs": [],
   "source": [
    "import pandas as pd\n",
    "import numpy as np\n",
    "from sklearn.preprocessing import LabelEncoder\n",
    "from sklearn.preprocessing import MinMaxScaler\n",
    "from sklearn.model_selection import train_test_split\n",
    "from sklearn.linear_model import LogisticRegression\n",
    "from sklearn.metrics import confusion_matrix\n",
    "from sklearn.model_selection import GridSearchCV\n",
    "import warnings\n",
    "warnings.filterwarnings(\"ignore\")"
   ]
  },
  {
   "cell_type": "markdown",
   "id": "b475ac94",
   "metadata": {},
   "source": [
    "# Import Data"
   ]
  },
  {
   "cell_type": "code",
   "execution_count": 8,
   "id": "ebbd9695",
   "metadata": {},
   "outputs": [
    {
     "data": {
      "text/html": [
       "<div>\n",
       "<style scoped>\n",
       "    .dataframe tbody tr th:only-of-type {\n",
       "        vertical-align: middle;\n",
       "    }\n",
       "\n",
       "    .dataframe tbody tr th {\n",
       "        vertical-align: top;\n",
       "    }\n",
       "\n",
       "    .dataframe thead th {\n",
       "        text-align: right;\n",
       "    }\n",
       "</style>\n",
       "<table border=\"1\" class=\"dataframe\">\n",
       "  <thead>\n",
       "    <tr style=\"text-align: right;\">\n",
       "      <th></th>\n",
       "      <th>b</th>\n",
       "      <th>30.83</th>\n",
       "      <th>0</th>\n",
       "      <th>u</th>\n",
       "      <th>g</th>\n",
       "      <th>w</th>\n",
       "      <th>v</th>\n",
       "      <th>1.25</th>\n",
       "      <th>t</th>\n",
       "      <th>t.1</th>\n",
       "      <th>01</th>\n",
       "      <th>f</th>\n",
       "      <th>g.1</th>\n",
       "      <th>00202</th>\n",
       "      <th>0.1</th>\n",
       "      <th>+</th>\n",
       "    </tr>\n",
       "  </thead>\n",
       "  <tbody>\n",
       "    <tr>\n",
       "      <th>0</th>\n",
       "      <td>a</td>\n",
       "      <td>58.67</td>\n",
       "      <td>4.460</td>\n",
       "      <td>u</td>\n",
       "      <td>g</td>\n",
       "      <td>q</td>\n",
       "      <td>h</td>\n",
       "      <td>3.04</td>\n",
       "      <td>t</td>\n",
       "      <td>t</td>\n",
       "      <td>6</td>\n",
       "      <td>f</td>\n",
       "      <td>g</td>\n",
       "      <td>00043</td>\n",
       "      <td>560</td>\n",
       "      <td>+</td>\n",
       "    </tr>\n",
       "    <tr>\n",
       "      <th>1</th>\n",
       "      <td>a</td>\n",
       "      <td>24.50</td>\n",
       "      <td>0.500</td>\n",
       "      <td>u</td>\n",
       "      <td>g</td>\n",
       "      <td>q</td>\n",
       "      <td>h</td>\n",
       "      <td>1.50</td>\n",
       "      <td>t</td>\n",
       "      <td>f</td>\n",
       "      <td>0</td>\n",
       "      <td>f</td>\n",
       "      <td>g</td>\n",
       "      <td>00280</td>\n",
       "      <td>824</td>\n",
       "      <td>+</td>\n",
       "    </tr>\n",
       "    <tr>\n",
       "      <th>2</th>\n",
       "      <td>b</td>\n",
       "      <td>27.83</td>\n",
       "      <td>1.540</td>\n",
       "      <td>u</td>\n",
       "      <td>g</td>\n",
       "      <td>w</td>\n",
       "      <td>v</td>\n",
       "      <td>3.75</td>\n",
       "      <td>t</td>\n",
       "      <td>t</td>\n",
       "      <td>5</td>\n",
       "      <td>t</td>\n",
       "      <td>g</td>\n",
       "      <td>00100</td>\n",
       "      <td>3</td>\n",
       "      <td>+</td>\n",
       "    </tr>\n",
       "    <tr>\n",
       "      <th>3</th>\n",
       "      <td>b</td>\n",
       "      <td>20.17</td>\n",
       "      <td>5.625</td>\n",
       "      <td>u</td>\n",
       "      <td>g</td>\n",
       "      <td>w</td>\n",
       "      <td>v</td>\n",
       "      <td>1.71</td>\n",
       "      <td>t</td>\n",
       "      <td>f</td>\n",
       "      <td>0</td>\n",
       "      <td>f</td>\n",
       "      <td>s</td>\n",
       "      <td>00120</td>\n",
       "      <td>0</td>\n",
       "      <td>+</td>\n",
       "    </tr>\n",
       "    <tr>\n",
       "      <th>4</th>\n",
       "      <td>b</td>\n",
       "      <td>32.08</td>\n",
       "      <td>4.000</td>\n",
       "      <td>u</td>\n",
       "      <td>g</td>\n",
       "      <td>m</td>\n",
       "      <td>v</td>\n",
       "      <td>2.50</td>\n",
       "      <td>t</td>\n",
       "      <td>f</td>\n",
       "      <td>0</td>\n",
       "      <td>t</td>\n",
       "      <td>g</td>\n",
       "      <td>00360</td>\n",
       "      <td>0</td>\n",
       "      <td>+</td>\n",
       "    </tr>\n",
       "  </tbody>\n",
       "</table>\n",
       "</div>"
      ],
      "text/plain": [
       "   b  30.83      0  u  g  w  v  1.25  t t.1  01  f g.1  00202  0.1  +\n",
       "0  a  58.67  4.460  u  g  q  h  3.04  t   t   6  f   g  00043  560  +\n",
       "1  a  24.50  0.500  u  g  q  h  1.50  t   f   0  f   g  00280  824  +\n",
       "2  b  27.83  1.540  u  g  w  v  3.75  t   t   5  t   g  00100    3  +\n",
       "3  b  20.17  5.625  u  g  w  v  1.71  t   f   0  f   s  00120    0  +\n",
       "4  b  32.08  4.000  u  g  m  v  2.50  t   f   0  t   g  00360    0  +"
      ]
     },
     "execution_count": 8,
     "metadata": {},
     "output_type": "execute_result"
    }
   ],
   "source": [
    "cc_apps=pd.read_csv(r'C:\\Users\\kkdhi\\Downloads\\cc_approvals.csv')\n",
    "cc_apps.head()"
   ]
  },
  {
   "cell_type": "markdown",
   "id": "eb72ffc4",
   "metadata": {},
   "source": [
    "# Inspecting the applications"
   ]
  },
  {
   "cell_type": "code",
   "execution_count": 9,
   "id": "00a9e6e3",
   "metadata": {},
   "outputs": [
    {
     "name": "stdout",
     "output_type": "stream",
     "text": [
      "                0        1.25          01            0.1\n",
      "count  689.000000  689.000000  689.000000     689.000000\n",
      "mean     4.765631    2.224819    2.402032    1018.862119\n",
      "std      4.978470    3.348739    4.866180    5213.743149\n",
      "min      0.000000    0.000000    0.000000       0.000000\n",
      "25%      1.000000    0.165000    0.000000       0.000000\n",
      "50%      2.750000    1.000000    0.000000       5.000000\n",
      "75%      7.250000    2.625000    3.000000     396.000000\n",
      "max     28.000000   28.500000   67.000000  100000.000000\n",
      "\n",
      "\n",
      "<class 'pandas.core.frame.DataFrame'>\n",
      "RangeIndex: 689 entries, 0 to 688\n",
      "Data columns (total 16 columns):\n",
      " #   Column  Non-Null Count  Dtype  \n",
      "---  ------  --------------  -----  \n",
      " 0   b       689 non-null    object \n",
      " 1   30.83   689 non-null    object \n",
      " 2   0       689 non-null    float64\n",
      " 3   u       689 non-null    object \n",
      " 4   g       689 non-null    object \n",
      " 5   w       689 non-null    object \n",
      " 6   v       689 non-null    object \n",
      " 7   1.25    689 non-null    float64\n",
      " 8   t       689 non-null    object \n",
      " 9   t.1     689 non-null    object \n",
      " 10  01      689 non-null    int64  \n",
      " 11  f       689 non-null    object \n",
      " 12  g.1     689 non-null    object \n",
      " 13  00202   689 non-null    object \n",
      " 14  0.1     689 non-null    int64  \n",
      " 15  +       689 non-null    object \n",
      "dtypes: float64(2), int64(2), object(12)\n",
      "memory usage: 86.2+ KB\n",
      "None\n",
      "\n",
      "\n",
      "     b  30.83       0  u  g   w   v  1.25  t t.1  01  f g.1  00202  0.1  +\n",
      "684  b  21.08  10.085  y  p   e   h  1.25  f   f   0  f   g  00260    0  -\n",
      "685  a  22.67   0.750  u  g   c   v  2.00  f   t   2  t   g  00200  394  -\n",
      "686  a  25.25  13.500  y  p  ff  ff  2.00  f   t   1  t   g  00200    1  -\n",
      "687  b  17.92   0.205  u  g  aa   v  0.04  f   f   0  f   g  00280  750  -\n",
      "688  b  35.00   3.375  u  g   c   h  8.29  f   f   0  t   g  00000    0  -\n"
     ]
    }
   ],
   "source": [
    "# Print summary statistics\n",
    "cc_apps_description = cc_apps.describe()\n",
    "print(cc_apps_description)\n",
    "\n",
    "print(\"\\n\")\n",
    "\n",
    "# Print DataFrame information\n",
    "cc_apps_info = cc_apps.info()\n",
    "print(cc_apps_info)\n",
    "\n",
    "print(\"\\n\")\n",
    "\n",
    "# Inspect missing values in the dataset\n",
    "print(cc_apps.tail())"
   ]
  },
  {
   "cell_type": "markdown",
   "id": "14623c35",
   "metadata": {},
   "source": [
    "# Handling the missing values (part i)"
   ]
  },
  {
   "cell_type": "code",
   "execution_count": 10,
   "id": "20ef608b",
   "metadata": {
    "scrolled": false
   },
   "outputs": [
    {
     "name": "stdout",
     "output_type": "stream",
     "text": [
      "     b  30.83       0  u  g   w   v   1.25  t t.1  01  f g.1  00202  0.1  +\n",
      "672  ?  29.50   2.000  y  p   e   h  2.000  f   f   0  f   g  00256   17  -\n",
      "673  a  37.33   2.500  u  g   i   h  0.210  f   f   0  f   g  00260  246  -\n",
      "674  a  41.58   1.040  u  g  aa   v  0.665  f   f   0  f   g  00240  237  -\n",
      "675  a  30.58  10.665  u  g   q   h  0.085  f   t  12  t   g  00129    3  -\n",
      "676  b  19.42   7.250  u  g   m   v  0.040  f   t   1  f   g  00100    1  -\n",
      "677  a  17.92  10.210  u  g  ff  ff  0.000  f   f   0  f   g  00000   50  -\n",
      "678  a  20.08   1.250  u  g   c   v  0.000  f   f   0  f   g  00000    0  -\n",
      "679  b  19.50   0.290  u  g   k   v  0.290  f   f   0  f   g  00280  364  -\n",
      "680  b  27.83   1.000  y  p   d   h  3.000  f   f   0  f   g  00176  537  -\n",
      "681  b  17.08   3.290  u  g   i   v  0.335  f   f   0  t   g  00140    2  -\n",
      "682  b  36.42   0.750  y  p   d   v  0.585  f   f   0  f   g  00240    3  -\n",
      "683  b  40.58   3.290  u  g   m   v  3.500  f   f   0  t   s  00400    0  -\n",
      "684  b  21.08  10.085  y  p   e   h  1.250  f   f   0  f   g  00260    0  -\n",
      "685  a  22.67   0.750  u  g   c   v  2.000  f   t   2  t   g  00200  394  -\n",
      "686  a  25.25  13.500  y  p  ff  ff  2.000  f   t   1  t   g  00200    1  -\n",
      "687  b  17.92   0.205  u  g  aa   v  0.040  f   f   0  f   g  00280  750  -\n",
      "688  b  35.00   3.375  u  g   c   h  8.290  f   f   0  t   g  00000    0  -\n",
      "       b  30.83       0  u  g   w   v   1.25  t t.1  01  f g.1  00202  0.1  +\n",
      "672  NaN  29.50   2.000  y  p   e   h  2.000  f   f   0  f   g  00256   17  -\n",
      "673    a  37.33   2.500  u  g   i   h  0.210  f   f   0  f   g  00260  246  -\n",
      "674    a  41.58   1.040  u  g  aa   v  0.665  f   f   0  f   g  00240  237  -\n",
      "675    a  30.58  10.665  u  g   q   h  0.085  f   t  12  t   g  00129    3  -\n",
      "676    b  19.42   7.250  u  g   m   v  0.040  f   t   1  f   g  00100    1  -\n",
      "677    a  17.92  10.210  u  g  ff  ff  0.000  f   f   0  f   g  00000   50  -\n",
      "678    a  20.08   1.250  u  g   c   v  0.000  f   f   0  f   g  00000    0  -\n",
      "679    b  19.50   0.290  u  g   k   v  0.290  f   f   0  f   g  00280  364  -\n",
      "680    b  27.83   1.000  y  p   d   h  3.000  f   f   0  f   g  00176  537  -\n",
      "681    b  17.08   3.290  u  g   i   v  0.335  f   f   0  t   g  00140    2  -\n",
      "682    b  36.42   0.750  y  p   d   v  0.585  f   f   0  f   g  00240    3  -\n",
      "683    b  40.58   3.290  u  g   m   v  3.500  f   f   0  t   s  00400    0  -\n",
      "684    b  21.08  10.085  y  p   e   h  1.250  f   f   0  f   g  00260    0  -\n",
      "685    a  22.67   0.750  u  g   c   v  2.000  f   t   2  t   g  00200  394  -\n",
      "686    a  25.25  13.500  y  p  ff  ff  2.000  f   t   1  t   g  00200    1  -\n",
      "687    b  17.92   0.205  u  g  aa   v  0.040  f   f   0  f   g  00280  750  -\n",
      "688    b  35.00   3.375  u  g   c   h  8.290  f   f   0  t   g  00000    0  -\n"
     ]
    }
   ],
   "source": [
    "# Inspect missing values in the dataset\n",
    "print(cc_apps.tail(17))\n",
    "\n",
    "# Replace the '?'s with NaN\n",
    "cc_apps = cc_apps.replace(\"?\", np.NaN )\n",
    "\n",
    "# Inspect the missing values again\n",
    "print(cc_apps.tail(17))"
   ]
  },
  {
   "cell_type": "markdown",
   "id": "12057c2f",
   "metadata": {},
   "source": [
    "# Handling the missing values (part ii)"
   ]
  },
  {
   "cell_type": "code",
   "execution_count": 11,
   "id": "4ae6c648",
   "metadata": {
    "scrolled": false
   },
   "outputs": [
    {
     "name": "stdout",
     "output_type": "stream",
     "text": [
      "         b  30.83      0      u      g      w      v   1.25      t    t.1  \\\n",
      "0    False  False  False  False  False  False  False  False  False  False   \n",
      "1    False  False  False  False  False  False  False  False  False  False   \n",
      "2    False  False  False  False  False  False  False  False  False  False   \n",
      "3    False  False  False  False  False  False  False  False  False  False   \n",
      "4    False  False  False  False  False  False  False  False  False  False   \n",
      "..     ...    ...    ...    ...    ...    ...    ...    ...    ...    ...   \n",
      "684  False  False  False  False  False  False  False  False  False  False   \n",
      "685  False  False  False  False  False  False  False  False  False  False   \n",
      "686  False  False  False  False  False  False  False  False  False  False   \n",
      "687  False  False  False  False  False  False  False  False  False  False   \n",
      "688  False  False  False  False  False  False  False  False  False  False   \n",
      "\n",
      "        01      f    g.1  00202    0.1      +  \n",
      "0    False  False  False  False  False  False  \n",
      "1    False  False  False  False  False  False  \n",
      "2    False  False  False  False  False  False  \n",
      "3    False  False  False  False  False  False  \n",
      "4    False  False  False  False  False  False  \n",
      "..     ...    ...    ...    ...    ...    ...  \n",
      "684  False  False  False  False  False  False  \n",
      "685  False  False  False  False  False  False  \n",
      "686  False  False  False  False  False  False  \n",
      "687  False  False  False  False  False  False  \n",
      "688  False  False  False  False  False  False  \n",
      "\n",
      "[689 rows x 16 columns]\n"
     ]
    }
   ],
   "source": [
    "# Impute the missing values with mean imputation\n",
    "cc_apps.fillna(cc_apps.mean(), inplace=True)\n",
    "\n",
    "# Count the number of NaNs in the dataset to verify\n",
    "print(cc_apps.isnull())"
   ]
  },
  {
   "cell_type": "markdown",
   "id": "dd11dc4c",
   "metadata": {},
   "source": [
    "# Handling the missing values (part iii)"
   ]
  },
  {
   "cell_type": "code",
   "execution_count": 12,
   "id": "8a8fdcdf",
   "metadata": {},
   "outputs": [
    {
     "name": "stdout",
     "output_type": "stream",
     "text": [
      "0\n"
     ]
    }
   ],
   "source": [
    "# Iterate over each column of cc_apps\n",
    "for col in cc_apps:\n",
    "    # Check if the column is of object type\n",
    "    if cc_apps[col].dtype == 'object':\n",
    "        # Impute with the most frequent value\n",
    "        cc_apps = cc_apps.fillna(cc_apps[col].value_counts().index[0])\n",
    "\n",
    "# Count the number of NaNs in the dataset and print the counts to verify\n",
    "print (cc_apps.isnull().values.sum())"
   ]
  },
  {
   "cell_type": "markdown",
   "id": "96fec0d1",
   "metadata": {},
   "source": [
    "# Preprocessing the data (part i)"
   ]
  },
  {
   "cell_type": "code",
   "execution_count": 13,
   "id": "95d8b077",
   "metadata": {},
   "outputs": [],
   "source": [
    "le= LabelEncoder()\n",
    "\n",
    "# Iterate over all the values of each column and extract their dtypes\n",
    "for col in cc_apps:\n",
    "    # Compare if the dtype is object\n",
    "    if cc_apps[col].dtype=='object':\n",
    "    # Use LabelEncoder to do the numeric transformation\n",
    "        cc_apps[col]=le.fit_transform(cc_apps[col])"
   ]
  },
  {
   "cell_type": "markdown",
   "id": "8d751e7b",
   "metadata": {},
   "source": [
    "# Splitting the dataset into train and test sets"
   ]
  },
  {
   "cell_type": "code",
   "execution_count": 19,
   "id": "a12cc521",
   "metadata": {},
   "outputs": [],
   "source": [
    "# Drop the features 11 and 13 and convert the DataFrame to a NumPy array\n",
    "cc_apps = cc_apps.drop(['f' , '00202'], axis=1)\n",
    "cc_apps = cc_apps.values\n",
    "\n",
    "# Segregate features and labels into separate variables\n",
    "X,y = cc_apps[:,0:13] , cc_apps[:,13]\n",
    "\n",
    "# Split into train and test sets\n",
    "X_train, X_test, y_train, y_test = train_test_split(X,\n",
    "                                y,\n",
    "                                test_size=0.33,\n",
    "                                random_state=42)"
   ]
  },
  {
   "cell_type": "markdown",
   "id": "b723982c",
   "metadata": {},
   "source": [
    "# Preprocessing the data (part ii)"
   ]
  },
  {
   "cell_type": "code",
   "execution_count": 20,
   "id": "3dfb7212",
   "metadata": {},
   "outputs": [],
   "source": [
    "# Instantiate MinMaxScaler and use it to rescale X_train and X_test\n",
    "scaler = MinMaxScaler(feature_range=(0, 1))\n",
    "rescaledX_train = scaler.fit_transform(X_train)\n",
    "rescaledX_test = scaler.fit_transform(X_test)"
   ]
  },
  {
   "cell_type": "markdown",
   "id": "cb7697d5",
   "metadata": {},
   "source": [
    "# Fitting a logistic regression model to the train set"
   ]
  },
  {
   "cell_type": "code",
   "execution_count": 21,
   "id": "e463915b",
   "metadata": {},
   "outputs": [
    {
     "data": {
      "text/html": [
       "<style>#sk-container-id-1 {color: black;background-color: white;}#sk-container-id-1 pre{padding: 0;}#sk-container-id-1 div.sk-toggleable {background-color: white;}#sk-container-id-1 label.sk-toggleable__label {cursor: pointer;display: block;width: 100%;margin-bottom: 0;padding: 0.3em;box-sizing: border-box;text-align: center;}#sk-container-id-1 label.sk-toggleable__label-arrow:before {content: \"▸\";float: left;margin-right: 0.25em;color: #696969;}#sk-container-id-1 label.sk-toggleable__label-arrow:hover:before {color: black;}#sk-container-id-1 div.sk-estimator:hover label.sk-toggleable__label-arrow:before {color: black;}#sk-container-id-1 div.sk-toggleable__content {max-height: 0;max-width: 0;overflow: hidden;text-align: left;background-color: #f0f8ff;}#sk-container-id-1 div.sk-toggleable__content pre {margin: 0.2em;color: black;border-radius: 0.25em;background-color: #f0f8ff;}#sk-container-id-1 input.sk-toggleable__control:checked~div.sk-toggleable__content {max-height: 200px;max-width: 100%;overflow: auto;}#sk-container-id-1 input.sk-toggleable__control:checked~label.sk-toggleable__label-arrow:before {content: \"▾\";}#sk-container-id-1 div.sk-estimator input.sk-toggleable__control:checked~label.sk-toggleable__label {background-color: #d4ebff;}#sk-container-id-1 div.sk-label input.sk-toggleable__control:checked~label.sk-toggleable__label {background-color: #d4ebff;}#sk-container-id-1 input.sk-hidden--visually {border: 0;clip: rect(1px 1px 1px 1px);clip: rect(1px, 1px, 1px, 1px);height: 1px;margin: -1px;overflow: hidden;padding: 0;position: absolute;width: 1px;}#sk-container-id-1 div.sk-estimator {font-family: monospace;background-color: #f0f8ff;border: 1px dotted black;border-radius: 0.25em;box-sizing: border-box;margin-bottom: 0.5em;}#sk-container-id-1 div.sk-estimator:hover {background-color: #d4ebff;}#sk-container-id-1 div.sk-parallel-item::after {content: \"\";width: 100%;border-bottom: 1px solid gray;flex-grow: 1;}#sk-container-id-1 div.sk-label:hover label.sk-toggleable__label {background-color: #d4ebff;}#sk-container-id-1 div.sk-serial::before {content: \"\";position: absolute;border-left: 1px solid gray;box-sizing: border-box;top: 0;bottom: 0;left: 50%;z-index: 0;}#sk-container-id-1 div.sk-serial {display: flex;flex-direction: column;align-items: center;background-color: white;padding-right: 0.2em;padding-left: 0.2em;position: relative;}#sk-container-id-1 div.sk-item {position: relative;z-index: 1;}#sk-container-id-1 div.sk-parallel {display: flex;align-items: stretch;justify-content: center;background-color: white;position: relative;}#sk-container-id-1 div.sk-item::before, #sk-container-id-1 div.sk-parallel-item::before {content: \"\";position: absolute;border-left: 1px solid gray;box-sizing: border-box;top: 0;bottom: 0;left: 50%;z-index: -1;}#sk-container-id-1 div.sk-parallel-item {display: flex;flex-direction: column;z-index: 1;position: relative;background-color: white;}#sk-container-id-1 div.sk-parallel-item:first-child::after {align-self: flex-end;width: 50%;}#sk-container-id-1 div.sk-parallel-item:last-child::after {align-self: flex-start;width: 50%;}#sk-container-id-1 div.sk-parallel-item:only-child::after {width: 0;}#sk-container-id-1 div.sk-dashed-wrapped {border: 1px dashed gray;margin: 0 0.4em 0.5em 0.4em;box-sizing: border-box;padding-bottom: 0.4em;background-color: white;}#sk-container-id-1 div.sk-label label {font-family: monospace;font-weight: bold;display: inline-block;line-height: 1.2em;}#sk-container-id-1 div.sk-label-container {text-align: center;}#sk-container-id-1 div.sk-container {/* jupyter's `normalize.less` sets `[hidden] { display: none; }` but bootstrap.min.css set `[hidden] { display: none !important; }` so we also need the `!important` here to be able to override the default hidden behavior on the sphinx rendered scikit-learn.org. See: https://github.com/scikit-learn/scikit-learn/issues/21755 */display: inline-block !important;position: relative;}#sk-container-id-1 div.sk-text-repr-fallback {display: none;}</style><div id=\"sk-container-id-1\" class=\"sk-top-container\"><div class=\"sk-text-repr-fallback\"><pre>LogisticRegression()</pre><b>In a Jupyter environment, please rerun this cell to show the HTML representation or trust the notebook. <br />On GitHub, the HTML representation is unable to render, please try loading this page with nbviewer.org.</b></div><div class=\"sk-container\" hidden><div class=\"sk-item\"><div class=\"sk-estimator sk-toggleable\"><input class=\"sk-toggleable__control sk-hidden--visually\" id=\"sk-estimator-id-1\" type=\"checkbox\" checked><label for=\"sk-estimator-id-1\" class=\"sk-toggleable__label sk-toggleable__label-arrow\">LogisticRegression</label><div class=\"sk-toggleable__content\"><pre>LogisticRegression()</pre></div></div></div></div></div>"
      ],
      "text/plain": [
       "LogisticRegression()"
      ]
     },
     "execution_count": 21,
     "metadata": {},
     "output_type": "execute_result"
    }
   ],
   "source": [
    "# Instantiate a LogisticRegression classifier with default parameter values\n",
    "logreg = LogisticRegression()\n",
    "\n",
    "# Fit logreg to the train set\n",
    "logreg.fit(X_train, y_train)"
   ]
  },
  {
   "cell_type": "markdown",
   "id": "f36cf730",
   "metadata": {},
   "source": [
    "# Making predictions and evaluating performance"
   ]
  },
  {
   "cell_type": "code",
   "execution_count": 22,
   "id": "971f98a3",
   "metadata": {},
   "outputs": [
    {
     "name": "stdout",
     "output_type": "stream",
     "text": [
      "Accuracy of logistic regression classifier:  0.8157894736842105\n",
      "[[ 80  20]\n",
      " [ 22 106]]\n"
     ]
    }
   ],
   "source": [
    "# Use logreg to predict instances from the test set and store it\n",
    "y_pred = logreg.predict(rescaledX_test)\n",
    "\n",
    "# Get the accuracy score of logreg model and print it\n",
    "print(\"Accuracy of logistic regression classifier: \", logreg.score(rescaledX_test, y_test))\n",
    "\n",
    "# Print the confusion matrix of the logreg model\n",
    "print(confusion_matrix(y_test, y_pred))"
   ]
  },
  {
   "cell_type": "markdown",
   "id": "a89a4c31",
   "metadata": {},
   "source": [
    "# Grid searching and making the model perform better"
   ]
  },
  {
   "cell_type": "code",
   "execution_count": 23,
   "id": "3da57e7b",
   "metadata": {},
   "outputs": [],
   "source": [
    "# Define the grid of values for tol and max_iter\n",
    "tol = [0.01, 0.001, 0.0001]\n",
    "max_iter = [100, 150, 200]\n",
    "\n",
    "# Create a dictionary where tol and max_iter are keys and the lists of their values are corresponding values\n",
    "param_grid = dict(tol=tol, max_iter=max_iter)"
   ]
  },
  {
   "cell_type": "markdown",
   "id": "d856efdd",
   "metadata": {},
   "source": [
    "# Finding the best performing model"
   ]
  },
  {
   "cell_type": "code",
   "execution_count": 24,
   "id": "6b3750f4",
   "metadata": {},
   "outputs": [
    {
     "name": "stdout",
     "output_type": "stream",
     "text": [
      "Best: 0.850640 using {'max_iter': 100, 'tol': 0.01}\n"
     ]
    }
   ],
   "source": [
    "# Instantiate GridSearchCV with the required parameters\n",
    "grid_model = GridSearchCV(estimator=logreg, param_grid=param_grid, cv=5)\n",
    "\n",
    "# Use scaler to rescale X and assign it to rescaledX\n",
    "rescaledX = scaler.fit_transform(X)\n",
    "\n",
    "# Fit data to grid_model\n",
    "grid_model_result = grid_model.fit(rescaledX, y)\n",
    "\n",
    "# Summarize results\n",
    "best_score, best_params = grid_model_result.best_score_, grid_model_result.best_params_\n",
    "print(\"Best: %f using %s\" % (best_score, best_params))"
   ]
  },
  {
   "cell_type": "code",
   "execution_count": null,
   "id": "954b98c3",
   "metadata": {},
   "outputs": [],
   "source": []
  }
 ],
 "metadata": {
  "kernelspec": {
   "display_name": "Python 3 (ipykernel)",
   "language": "python",
   "name": "python3"
  },
  "language_info": {
   "codemirror_mode": {
    "name": "ipython",
    "version": 3
   },
   "file_extension": ".py",
   "mimetype": "text/x-python",
   "name": "python",
   "nbconvert_exporter": "python",
   "pygments_lexer": "ipython3",
   "version": "3.10.9"
  }
 },
 "nbformat": 4,
 "nbformat_minor": 5
}
